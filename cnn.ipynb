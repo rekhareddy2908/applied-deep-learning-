{
  "nbformat": 4,
  "nbformat_minor": 0,
  "metadata": {
    "colab": {
      "provenance": [],
      "authorship_tag": "ABX9TyOt2fdGhP3AYNnY3Hrs8A/U",
      "include_colab_link": true
    },
    "kernelspec": {
      "name": "python3",
      "display_name": "Python 3"
    },
    "language_info": {
      "name": "python"
    }
  },
  "cells": [
    {
      "cell_type": "markdown",
      "metadata": {
        "id": "view-in-github",
        "colab_type": "text"
      },
      "source": [
        "<a href=\"https://colab.research.google.com/github/rekhareddy2908/applied-deep-learning-/blob/main/cnn.ipynb\" target=\"_parent\"><img src=\"https://colab.research.google.com/assets/colab-badge.svg\" alt=\"Open In Colab\"/></a>"
      ]
    },
    {
      "cell_type": "code",
      "source": [
        "import tensorflow as tf\n",
        "from tensorflow.keras.datasets import mnist\n",
        "from tensorflow.keras.models import Sequential\n",
        "from tensorflow.keras.layers import Conv2D, MaxPooling2D, Flatten, Dense, Dropout\n",
        "from tensorflow.keras.utils import to_categorical\n",
        "# Load and preprocess the dataset\n",
        "(x_train, y_train), (x_test, y_test) = mnist.load_data()\n",
        "x_train = x_train.reshape(x_train.shape[0], 28, 28, 1).astype('float32') / 255\n",
        "x_test = x_test.reshape(x_test.shape[0], 28, 28, 1).astype('float32') / 255\n",
        "y_train = to_categorical(y_train, 10)\n",
        "y_test = to_categorical(y_test, 10)\n",
        "# Build the CNN model\n",
        "model = Sequential()\n",
        "model.add(Conv2D(32, kernel_size=(3, 3), activation='relu', input_shape=(28, 28, 1)))\n",
        "model.add(MaxPooling2D(pool_size=(2, 2)))\n",
        "model.add(Conv2D(64, kernel_size=(3, 3), activation='relu'))\n",
        "model.add(MaxPooling2D(pool_size=(2, 2)))\n",
        "model.add(Flatten())\n",
        "model.add(Dense(128, activation='relu'))\n",
        "model.add(Dropout(0.5))\n",
        "model.add(Dense(10, activation='softmax'))\n",
        "model.compile(loss='categorical_crossentropy', optimizer='adam',metrics=['accuracy'])\n",
        "# Train the model\n",
        "model.fit(x_train, y_train, epochs=10,batch_size=200, verbose=2)\n",
        "# Evaluate the model\n",
        "test_loss, test_acc = model.evaluate(x_test, y_test, verbose=0)\n",
        "print(f'Test accuracy: {test_acc*100:.2f}%')"
      ],
      "metadata": {
        "colab": {
          "base_uri": "https://localhost:8080/"
        },
        "id": "7XbBtxQBU7aK",
        "outputId": "d13326b1-da4a-46ca-8345-df5947f93c27"
      },
      "execution_count": 11,
      "outputs": [
        {
          "output_type": "stream",
          "name": "stdout",
          "text": [
            "Epoch 1/10\n",
            "300/300 - 50s - loss: 0.3692 - accuracy: 0.8866 - 50s/epoch - 165ms/step\n",
            "Epoch 2/10\n",
            "300/300 - 41s - loss: 0.1141 - accuracy: 0.9663 - 41s/epoch - 136ms/step\n",
            "Epoch 3/10\n",
            "300/300 - 41s - loss: 0.0864 - accuracy: 0.9743 - 41s/epoch - 135ms/step\n",
            "Epoch 4/10\n",
            "300/300 - 41s - loss: 0.0719 - accuracy: 0.9789 - 41s/epoch - 137ms/step\n",
            "Epoch 5/10\n",
            "300/300 - 41s - loss: 0.0602 - accuracy: 0.9822 - 41s/epoch - 138ms/step\n",
            "Epoch 6/10\n",
            "300/300 - 42s - loss: 0.0525 - accuracy: 0.9847 - 42s/epoch - 140ms/step\n",
            "Epoch 7/10\n",
            "300/300 - 42s - loss: 0.0466 - accuracy: 0.9856 - 42s/epoch - 140ms/step\n",
            "Epoch 8/10\n",
            "300/300 - 43s - loss: 0.0463 - accuracy: 0.9866 - 43s/epoch - 142ms/step\n",
            "Epoch 9/10\n",
            "300/300 - 43s - loss: 0.0380 - accuracy: 0.9887 - 43s/epoch - 142ms/step\n",
            "Epoch 10/10\n",
            "300/300 - 43s - loss: 0.0345 - accuracy: 0.9898 - 43s/epoch - 143ms/step\n",
            "Test accuracy: 99.22%\n"
          ]
        }
      ]
    }
  ]
}