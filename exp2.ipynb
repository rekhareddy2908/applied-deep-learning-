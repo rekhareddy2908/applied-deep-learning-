{
  "nbformat": 4,
  "nbformat_minor": 0,
  "metadata": {
    "colab": {
      "provenance": [],
      "authorship_tag": "ABX9TyNJr4PZiYP8c4aEHk5Pr1d8",
      "include_colab_link": true
    },
    "kernelspec": {
      "name": "python3",
      "display_name": "Python 3"
    },
    "language_info": {
      "name": "python"
    }
  },
  "cells": [
    {
      "cell_type": "markdown",
      "metadata": {
        "id": "view-in-github",
        "colab_type": "text"
      },
      "source": [
        "<a href=\"https://colab.research.google.com/github/rekhareddy2908/applied-deep-learning-/blob/main/exp2.ipynb\" target=\"_parent\"><img src=\"https://colab.research.google.com/assets/colab-badge.svg\" alt=\"Open In Colab\"/></a>"
      ]
    },
    {
      "cell_type": "code",
      "source": [
        "#2.BINARY CLASSIFICATION\n",
        "import numpy as np\n",
        "import tensorflow as tf\n",
        "from tensorflow.keras.models import Sequential\n",
        "from tensorflow.keras.layers import Dense,Input\n",
        "from sklearn.model_selection import train_test_split\n",
        "from sklearn.metrics import accuracy_score\n",
        "np.random.seed(42)\n",
        "X = np.random.rand(1000, 2)\n",
        "y = (X[:, 0] + X[:, 1] > 1).astype(int)\n",
        "X_train, X_test, y_train, y_test = train_test_split(X, y, test_size=0.2, random_state=42)\n",
        "model = Sequential([Input(shape=(2)),Dense(64, activation='relu'),Dense(1, activation='sigmoid')])\n",
        "model.compile(optimizer='adam',loss='binary_crossentropy',metrics=['accuracy'])\n",
        "model.fit(X_train, y_train, epochs=10, batch_size=32, validation_split=0.2)\n",
        "y_pred = model.predict(X_test)\n",
        "y_pred_binary = (y_pred > 0.5).astype(int)\n",
        "test_accuracy = accuracy_score(y_test, y_pred_binary)\n",
        "print(f\"Test accuracy: {test_accuracy:.4f}\")"
      ],
      "metadata": {
        "colab": {
          "base_uri": "https://localhost:8080/"
        },
        "id": "DxDqGciYR_S-",
        "outputId": "8075b1a4-2bcd-4fab-bba0-884ec55ef8ab"
      },
      "execution_count": 4,
      "outputs": [
        {
          "output_type": "stream",
          "name": "stdout",
          "text": [
            "Epoch 1/10\n",
            "20/20 [==============================] - 4s 62ms/step - loss: 0.6706 - accuracy: 0.5000 - val_loss: 0.6437 - val_accuracy: 0.5875\n",
            "Epoch 2/10\n",
            "20/20 [==============================] - 0s 12ms/step - loss: 0.6520 - accuracy: 0.5281 - val_loss: 0.6220 - val_accuracy: 0.6125\n",
            "Epoch 3/10\n",
            "20/20 [==============================] - 0s 12ms/step - loss: 0.6343 - accuracy: 0.5703 - val_loss: 0.6032 - val_accuracy: 0.6438\n",
            "Epoch 4/10\n",
            "20/20 [==============================] - 0s 9ms/step - loss: 0.6160 - accuracy: 0.6219 - val_loss: 0.5842 - val_accuracy: 0.6625\n",
            "Epoch 5/10\n",
            "20/20 [==============================] - 0s 13ms/step - loss: 0.5973 - accuracy: 0.6453 - val_loss: 0.5642 - val_accuracy: 0.6812\n",
            "Epoch 6/10\n",
            "20/20 [==============================] - 0s 11ms/step - loss: 0.5767 - accuracy: 0.6984 - val_loss: 0.5464 - val_accuracy: 0.7437\n",
            "Epoch 7/10\n",
            "20/20 [==============================] - 0s 8ms/step - loss: 0.5552 - accuracy: 0.7312 - val_loss: 0.5248 - val_accuracy: 0.7500\n",
            "Epoch 8/10\n",
            "20/20 [==============================] - 0s 13ms/step - loss: 0.5328 - accuracy: 0.7703 - val_loss: 0.5048 - val_accuracy: 0.8062\n",
            "Epoch 9/10\n",
            "20/20 [==============================] - 0s 15ms/step - loss: 0.5099 - accuracy: 0.8047 - val_loss: 0.4833 - val_accuracy: 0.8438\n",
            "Epoch 10/10\n",
            "20/20 [==============================] - 0s 11ms/step - loss: 0.4859 - accuracy: 0.8141 - val_loss: 0.4607 - val_accuracy: 0.8625\n",
            "7/7 [==============================] - 0s 2ms/step\n",
            "Test accuracy: 0.8300\n"
          ]
        }
      ]
    }
  ]
}